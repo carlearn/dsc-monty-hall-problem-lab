{
 "cells": [
  {
   "cell_type": "markdown",
   "metadata": {},
   "source": [
    "# The Monty Hall Problem\n",
    "\n",
    "## Introduction\n",
    "\n",
    "The Monty Hall problem is a famous little puzzle from a game show. It goes like this: you are presented with 3 doors. Behind two are goats and behind the third is a car. You are asked to select a door; if you select the door with the car, you win! After selecting, the host then opens one of the remaining two doors, revealing a goat. The host then asks if you would like to switch doors or stick with your original choice. What would you do? Does it matter?\n",
    "\n",
    "<img src=\"images/Image_58_MontyHall.png\">\n",
    "\n",
    "## Objectives\n",
    "\n",
    "In this lab you will:\n",
    "\n",
    "- Use Bayes' theorem along with a simulation to solve the Monty Hall problem"
   ]
  },
  {
   "cell_type": "markdown",
   "metadata": {},
   "source": [
    "## Run a simulation\n",
    "\n",
    "This is not a traditional application of Bayes' theorem, so trying to formulate the problem as such is tricky at best. That said, the scenario does capture the motivating conception behind Bayesian statistics: updating our beliefs in the face of additional evidence. With this, you'll employ another frequently used tool Bayesians frequently employ, running simulations. To do this, generate a random integer between one and three to represent the door hiding the car. Then, generate a second integer between one and three representing the player's selection. Then, of those the contestant did not choose, select a door concealing a goat to reveal. Record the results of the simulated game if they changed versus if they did not. Repeat this process a thousand (or more) times. Finally, plot the results of your simulation as a line graph. The x-axis should be the number of simulations, and the y-axis should be the probability of winning. (There should be two lines on the graph, one for switching doors, and the other for keeping the original selection.)"
   ]
  },
  {
   "cell_type": "code",
   "execution_count": 1,
   "metadata": {},
   "outputs": [
    {
     "name": "stdout",
     "output_type": "stream",
     "text": [
      "Simulated Probabilities:\n",
      "Chance of Winning Keeping Selected Door:  0.3325\n",
      "Chance of Winning Switching Selected Door:  0.6675\n"
     ]
    },
    {
     "data": {
      "image/png": "[encoded data removed]",
      "text/plain": [
       "<Figure size 432x288 with 1 Axes>"
      ]
     },
     "metadata": {
      "needs_background": "light"
     },
     "output_type": "display_data"
    }
   ],
   "source": [
    "# Your code here\n",
    "import numpy as np\n",
    "import matplotlib.pyplot as plt\n",
    "%matplotlib inline\n",
    "\n",
    "stay = []\n",
    "switch = []\n",
    "for i in range(10**4):\n",
    "    car_door = np.random.randint(1,4)\n",
    "    contestant_selection = np.random.randint(1,4)\n",
    "    remaining_goats = [door for door in [1,2,3] \n",
    "                       if door!= car_door and door != contestant_selection]\n",
    "    door_revealed = np.random.choice(remaining_goats)\n",
    "    if_switch = [door for door in [1,2,3] \n",
    "                 if door != contestant_selection and door != door_revealed][0]\n",
    "    # Record results if contestant changes door selection\n",
    "    if if_switch == car_door:\n",
    "        switch.append(1)\n",
    "    else:\n",
    "        switch.append(0)\n",
    "    # Record results if contestant keep door selection\n",
    "    if contestant_selection == car_door:\n",
    "        stay.append(1)\n",
    "    else:\n",
    "        stay.append(0)\n",
    "# Plot the results\n",
    "plt.plot(range(1,10**4+1), [np.mean(stay[:i]) \n",
    "                            for i in range(1,10**4+1)], label='Keep Selected Door')\n",
    "plt.plot(range(1,10**4+1), [np.mean(switch[:i]) \n",
    "                            for i in range(1,10**4+1)], label='Switch Selected Door')\n",
    "plt.ylabel('Probability of Winning')\n",
    "plt.xlabel('Number of Simulations')\n",
    "plt.title('Simulated Probability of Winning the Monty Hall Game')\n",
    "plt.legend()\n",
    "print('Simulated Probabilities:')\n",
    "print('Chance of Winning Keeping Selected Door: ', np.mean(stay))\n",
    "print('Chance of Winning Switching Selected Door: ', np.mean(switch))"
   ]
  },
  {
   "cell_type": "code",
   "execution_count": 2,
   "metadata": {},
   "outputs": [],
   "source": [
    "# video-solution\n",
    "\n",
    "import numpy as np"
   ]
  },
  {
   "cell_type": "code",
   "execution_count": 3,
   "metadata": {},
   "outputs": [
    {
     "data": {
      "text/plain": [
       "(2, 3, 1, [2], 1)"
      ]
     },
     "execution_count": 3,
     "metadata": {},
     "output_type": "execute_result"
    }
   ],
   "source": [
    "switch = True\n",
    "winner = 0\n",
    "car = np.random.choice([1,2,3])\n",
    "player_selection = np.random.choice([1,2,3])\n",
    "doors = [1, 2, 3]\n",
    "if car == player_selection:\n",
    "    doors.remove(car)\n",
    "    door_to_reveal = np.random.choice(doors)\n",
    "else:\n",
    "    doors.remove(car)\n",
    "    doors.remove(player_selection)\n",
    "    door_to_reveal = np.random.choice(doors)\n",
    "    \n",
    "if switch:\n",
    "    new_choice = [1,2,3]\n",
    "    new_choice.remove(player_selection)\n",
    "    new_choice.remove(door_to_reveal)\n",
    "    if new_choice[0] == car:\n",
    "        winner += 1\n",
    "else:\n",
    "     if player_selection == car:\n",
    "        winner += 1\n",
    "\n",
    "car, player_selection, door_to_reveal, new_choice, winner"
   ]
  },
  {
   "cell_type": "code",
   "execution_count": 4,
   "metadata": {},
   "outputs": [],
   "source": [
    "switch = True\n",
    "winner_switch = []\n",
    "for i in range(2000):\n",
    "    car = np.random.choice([1,2,3])\n",
    "    player_selection = np.random.choice([1,2,3])\n",
    "    \n",
    "    doors = [1, 2, 3]\n",
    "    if car == player_selection:\n",
    "        doors.remove(car)\n",
    "        door_to_reveal = np.random.choice(doors)\n",
    "    else:\n",
    "        doors.remove(car)\n",
    "        doors.remove(player_selection)\n",
    "        door_to_reveal = np.random.choice(doors)\n",
    "\n",
    "    if switch:\n",
    "        new_choice = [1,2,3]\n",
    "        new_choice.remove(player_selection)\n",
    "        new_choice.remove(door_to_reveal)\n",
    "        if new_choice[0] == car:\n",
    "            winner_switch.append(1)\n",
    "        else:\n",
    "                winner_switch.append(0)\n",
    "    else:\n",
    "        if player_selection == car:\n",
    "            winner_no_switch.append(1)\n",
    "        else:\n",
    "            winner_no_switch.append(0)"
   ]
  },
  {
   "cell_type": "code",
   "execution_count": 5,
   "metadata": {},
   "outputs": [],
   "source": [
    "switch = False\n",
    "winner_no_switch = []\n",
    "for i in range(2000):\n",
    "    car = np.random.choice([1,2,3])\n",
    "    player_selection = np.random.choice([1,2,3])\n",
    "    \n",
    "    doors = [1, 2, 3]\n",
    "    if car == player_selection:\n",
    "        doors.remove(car)\n",
    "        door_to_reveal = np.random.choice(doors)\n",
    "    else:\n",
    "        doors.remove(car)\n",
    "        doors.remove(player_selection)\n",
    "        door_to_reveal = np.random.choice(doors)\n",
    "\n",
    "    if switch:\n",
    "        new_choice = [1,2,3]\n",
    "        new_choice.remove(player_selection)\n",
    "        new_choice.remove(door_to_reveal)\n",
    "        if new_choice[0] == car:\n",
    "            winner_switch.append(1)\n",
    "        else:\n",
    "                winner_switch.append(0)\n",
    "    else:\n",
    "        if player_selection == car:\n",
    "            winner_no_switch.append(1)\n",
    "        else:\n",
    "            winner_no_switch.append(0)"
   ]
  },
  {
   "cell_type": "code",
   "execution_count": 6,
   "metadata": {},
   "outputs": [],
   "source": [
    "import matplotlib.pyplot as plt\n",
    "%matplotlib inline"
   ]
  },
  {
   "cell_type": "code",
   "execution_count": 7,
   "metadata": {},
   "outputs": [
    {
     "name": "stderr",
     "output_type": "stream",
     "text": [
      "/Users/carrie/opt/anaconda3/envs/learn-env/lib/python3.6/site-packages/numpy/core/fromnumeric.py:3118: RuntimeWarning: Mean of empty slice.\n",
      "  out=out, **kwargs)\n",
      "/Users/carrie/opt/anaconda3/envs/learn-env/lib/python3.6/site-packages/numpy/core/_methods.py:85: RuntimeWarning: invalid value encountered in double_scalars\n",
      "  ret = ret.dtype.type(ret / rcount)\n"
     ]
    },
    {
     "data": {
      "text/plain": [
       "<matplotlib.legend.Legend at 0x7f9a89d151d0>"
      ]
     },
     "execution_count": 7,
     "metadata": {},
     "output_type": "execute_result"
    },
    {
     "data": {
      "image/png": "[encoded data removed]",
      "text/plain": [
       "<Figure size 432x288 with 1 Axes>"
      ]
     },
     "metadata": {
      "needs_background": "light"
     },
     "output_type": "display_data"
    }
   ],
   "source": [
    "plt.plot(range(2000), [np.mean(winner_switch[:x]) for x in range(len(winner_switch))], \n",
    "         label = \"switch\")\n",
    "plt.plot(range(2000), [np.mean(winner_no_switch[:x]) for x in range(len(winner_no_switch))], \n",
    "         label = \"no_switch\")\n",
    "plt.legend()"
   ]
  },
  {
   "cell_type": "markdown",
   "metadata": {},
   "source": [
    "## Summary\n",
    "\n",
    "In this lab, you further investigated the idea of Bayes' theorem and Bayesian statistics in general through the Monty Hall problem. Hopefully, this was an entertaining little experience! "
   ]
  }
 ],
 "metadata": {
  "kernelspec": {
   "display_name": "Python 3",
   "language": "python",
   "name": "python3"
  },
  "language_info": {
   "codemirror_mode": {
    "name": "ipython",
    "version": 3
   },
   "file_extension": ".py",
   "mimetype": "text/x-python",
   "name": "python",
   "nbconvert_exporter": "python",
   "pygments_lexer": "ipython3",
   "version": "3.6.9"
  },
  "toc": {
   "base_numbering": 1,
   "nav_menu": {},
   "number_sections": true,
   "sideBar": true,
   "skip_h1_title": false,
   "title_cell": "Table of Contents",
   "title_sidebar": "Contents",
   "toc_cell": false,
   "toc_position": {},
   "toc_section_display": true,
   "toc_window_display": false
  }
 },
 "nbformat": 4,
 "nbformat_minor": 2
}
